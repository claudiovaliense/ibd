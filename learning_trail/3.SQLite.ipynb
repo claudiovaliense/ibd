{
  "nbformat": 4,
  "nbformat_minor": 0,
  "metadata": {
    "kernelspec": {
      "display_name": "Python 3",
      "language": "python",
      "name": "python3"
    },
    "language_info": {
      "codemirror_mode": {
        "name": "ipython",
        "version": 3
      },
      "file_extension": ".py",
      "mimetype": "text/x-python",
      "name": "python",
      "nbconvert_exporter": "python",
      "pygments_lexer": "ipython3",
      "version": "3.7.1"
    },
    "colab": {
      "name": "3. Jupyter e SQLite.ipynb",
      "version": "0.3.2",
      "provenance": []
    }
  },
  "cells": [
    {
      "cell_type": "markdown",
      "metadata": {
        "id": "BGtUJd9P_Rdd",
        "colab_type": "text"
      },
      "source": [
        "## Jupyter e SQLite\n",
        "\n",
        "SQLite é uma engine de banco de dados transacional autocontida que dispensa servidor e configuração. Utilizando a mesma, é possível importar um dump de banco de dados a partir de um arquivo .sql e realizar consultas e outras operações.\n",
        "\n",
        "* SQLite: https://www.sqlite.org/index.html\n",
        "* Documentação: https://docs.python.org/2/library/sqlite3.html\n",
        "* Tutorial: https://www.tutorialspoint.com/sqlite/sqlite_python.htm"
      ]
    },
    {
      "cell_type": "markdown",
      "metadata": {
        "id": "jP4jQdYU_Rdf",
        "colab_type": "text"
      },
      "source": [
        "Para os exemplos, utilizaremos o banco de dados utilizado no TP 1 da turma de Introdução a Banco de Dados 2019/1. O banco é representado pelo schema abaixo:\n",
        "\n",
        "![Modelo_BD.png](https://github.com/filipefbn/jupyter_intro_class_ibd/blob/master/data/schema.PNG?raw=true)\n"
      ]
    },
    {
      "cell_type": "code",
      "metadata": {
        "scrolled": true,
        "id": "og2x9Cfr_Rdg",
        "colab_type": "code",
        "colab": {}
      },
      "source": [
        "import io\n",
        "import sqlite3\n",
        "import pandas as pd\n",
        "import matplotlib.pyplot as plt\n",
        "\n",
        "# Download do dump:\n",
        "!wget --quiet -P /tmp/ibd/ https://raw.githubusercontent.com/filipefbn/jupyter_intro_class_ibd/master/data/despesas_publicas_tp1.sql"
      ],
      "execution_count": 0,
      "outputs": []
    },
    {
      "cell_type": "markdown",
      "metadata": {
        "id": "8ENSTQE4_Rdi",
        "colab_type": "text"
      },
      "source": [
        "### Criação da conexão com o banco\n",
        "\n",
        "* No momento da conexão, é informado o nome do arquivo onde será montado o banco de dados. No nosso caso, este arquivo não precisa ser pré-existente, porque iremos carregar as informações de um dump\n",
        "* Se este comando for executado com um arquivo que já existe e possui as mesmas tabelas que serão criadas, ocorrerá um erro no momento da execução do script mais à frente"
      ]
    },
    {
      "cell_type": "code",
      "metadata": {
        "id": "iRHKsZPl_Rdj",
        "colab_type": "code",
        "colab": {}
      },
      "source": [
        "conn = sqlite3.connect('/tmp/ibd/conn_despesas_publicas_tp1.db')\n",
        "cursor = conn.cursor()"
      ],
      "execution_count": 0,
      "outputs": []
    },
    {
      "cell_type": "markdown",
      "metadata": {
        "id": "p905LHrp_Rdl",
        "colab_type": "text"
      },
      "source": [
        "### Execução do script para carga do dump\n",
        "\n",
        "* Criada a conexão, iremos utilizar o arquivo .sql disponibilizado para recuperar o schema e os dados do banco"
      ]
    },
    {
      "cell_type": "code",
      "metadata": {
        "id": "N9yizyvw_Rdm",
        "colab_type": "code",
        "outputId": "0751764e-11b7-443a-b82b-40072510c802",
        "colab": {
          "base_uri": "https://localhost:8080/",
          "height": 35
        }
      },
      "source": [
        "f = io.open('/tmp/ibd/despesas_publicas_tp1.sql', 'r', encoding='ISO-8859-1')\n",
        "sql = f.read()\n",
        "cursor.executescript(sql)"
      ],
      "execution_count": 0,
      "outputs": [
        {
          "output_type": "execute_result",
          "data": {
            "text/plain": [
              "<sqlite3.Cursor at 0x7f74ce5eb730>"
            ]
          },
          "metadata": {
            "tags": []
          },
          "execution_count": 6
        }
      ]
    },
    {
      "cell_type": "markdown",
      "metadata": {
        "id": "RjBp5fp8_Rdp",
        "colab_type": "text"
      },
      "source": [
        "### Realizando consultas no banco de dados\n",
        "\n",
        "* Criada a conexão e realizada a carga dos dados no banco, pode ser executada qualquer consulta SQL\n",
        "* O SQLite3 permite que o retorno dos dados seja feito em vários formatos, entretanto, utilizaremos o retorno em um dataframe do Pandas"
      ]
    },
    {
      "cell_type": "markdown",
      "metadata": {
        "id": "DFRUhYXt_Rdp",
        "colab_type": "text"
      },
      "source": [
        "**CONSULTA 1:** todos os órgãos ordenados pela quantidade de orgãos subordinados de forma decrescente"
      ]
    },
    {
      "cell_type": "code",
      "metadata": {
        "id": "CgsgLLTL_Rdq",
        "colab_type": "code",
        "outputId": "9f01f217-c8cd-4b2d-ee75-7109702f919c",
        "colab": {
          "base_uri": "https://localhost:8080/",
          "height": 468
        }
      },
      "source": [
        "df = pd.read_sql_query(\"SELECT * FROM ORGAO ORDER BY QTD_ORGAOS_SUBORDINADOS DESC\", conn)\n",
        "df"
      ],
      "execution_count": 0,
      "outputs": [
        {
          "output_type": "execute_result",
          "data": {
            "text/html": [
              "<div>\n",
              "<style scoped>\n",
              "    .dataframe tbody tr th:only-of-type {\n",
              "        vertical-align: middle;\n",
              "    }\n",
              "\n",
              "    .dataframe tbody tr th {\n",
              "        vertical-align: top;\n",
              "    }\n",
              "\n",
              "    .dataframe thead th {\n",
              "        text-align: right;\n",
              "    }\n",
              "</style>\n",
              "<table border=\"1\" class=\"dataframe\">\n",
              "  <thead>\n",
              "    <tr style=\"text-align: right;\">\n",
              "      <th></th>\n",
              "      <th>COD_ORGAO</th>\n",
              "      <th>NOME_ORGAO</th>\n",
              "      <th>QTD_ORGAOS_SUBORDINADOS</th>\n",
              "    </tr>\n",
              "  </thead>\n",
              "  <tbody>\n",
              "    <tr>\n",
              "      <th>0</th>\n",
              "      <td>26000</td>\n",
              "      <td>Ministério da Educação</td>\n",
              "      <td>104</td>\n",
              "    </tr>\n",
              "    <tr>\n",
              "      <th>1</th>\n",
              "      <td>30000</td>\n",
              "      <td>Ministério da Justiça e Segurança Pública</td>\n",
              "      <td>6</td>\n",
              "    </tr>\n",
              "    <tr>\n",
              "      <th>2</th>\n",
              "      <td>22000</td>\n",
              "      <td>Ministério da Agricultura, Pecuária e Abastec</td>\n",
              "      <td>5</td>\n",
              "    </tr>\n",
              "    <tr>\n",
              "      <th>3</th>\n",
              "      <td>24000</td>\n",
              "      <td>Ministério da Ciência, Tecnologia, Inovações</td>\n",
              "      <td>4</td>\n",
              "    </tr>\n",
              "    <tr>\n",
              "      <th>4</th>\n",
              "      <td>52000</td>\n",
              "      <td>Ministério da Defesa</td>\n",
              "      <td>4</td>\n",
              "    </tr>\n",
              "    <tr>\n",
              "      <th>5</th>\n",
              "      <td>53000</td>\n",
              "      <td>Ministério da Integração Nacional</td>\n",
              "      <td>4</td>\n",
              "    </tr>\n",
              "    <tr>\n",
              "      <th>6</th>\n",
              "      <td>25000</td>\n",
              "      <td>Ministério da Fazenda</td>\n",
              "      <td>3</td>\n",
              "    </tr>\n",
              "    <tr>\n",
              "      <th>7</th>\n",
              "      <td>36000</td>\n",
              "      <td>Ministério da Saúde</td>\n",
              "      <td>3</td>\n",
              "    </tr>\n",
              "    <tr>\n",
              "      <th>8</th>\n",
              "      <td>20000</td>\n",
              "      <td>Presidência da República</td>\n",
              "      <td>2</td>\n",
              "    </tr>\n",
              "    <tr>\n",
              "      <th>9</th>\n",
              "      <td>39000</td>\n",
              "      <td>Ministério dos Transportes, Portos e Aviação</td>\n",
              "      <td>2</td>\n",
              "    </tr>\n",
              "    <tr>\n",
              "      <th>10</th>\n",
              "      <td>44000</td>\n",
              "      <td>Ministério do Meio Ambiente</td>\n",
              "      <td>2</td>\n",
              "    </tr>\n",
              "    <tr>\n",
              "      <th>11</th>\n",
              "      <td>55000</td>\n",
              "      <td>Ministério do Desenvolvimento Social</td>\n",
              "      <td>2</td>\n",
              "    </tr>\n",
              "    <tr>\n",
              "      <th>12</th>\n",
              "      <td>35000</td>\n",
              "      <td>Ministério das Relações Exteriores</td>\n",
              "      <td>1</td>\n",
              "    </tr>\n",
              "    <tr>\n",
              "      <th>13</th>\n",
              "      <td>81000</td>\n",
              "      <td>Ministério dos Direitos Humanos</td>\n",
              "      <td>1</td>\n",
              "    </tr>\n",
              "  </tbody>\n",
              "</table>\n",
              "</div>"
            ],
            "text/plain": [
              "    COD_ORGAO  ... QTD_ORGAOS_SUBORDINADOS\n",
              "0       26000  ...                     104\n",
              "1       30000  ...                       6\n",
              "2       22000  ...                       5\n",
              "3       24000  ...                       4\n",
              "4       52000  ...                       4\n",
              "5       53000  ...                       4\n",
              "6       25000  ...                       3\n",
              "7       36000  ...                       3\n",
              "8       20000  ...                       2\n",
              "9       39000  ...                       2\n",
              "10      44000  ...                       2\n",
              "11      55000  ...                       2\n",
              "12      35000  ...                       1\n",
              "13      81000  ...                       1\n",
              "\n",
              "[14 rows x 3 columns]"
            ]
          },
          "metadata": {
            "tags": []
          },
          "execution_count": 7
        }
      ]
    },
    {
      "cell_type": "markdown",
      "metadata": {
        "id": "QPvkeSaF_Rds",
        "colab_type": "text"
      },
      "source": [
        "**CONSULTA 2:** todos os nomes dos programas de governo e a soma de suas despesas totais no ano de 2018 ordenadas de forma decrescete, desde que as despesas tenham sido superiores a 0"
      ]
    },
    {
      "cell_type": "code",
      "metadata": {
        "id": "T2BzENmy_Rdt",
        "colab_type": "code",
        "outputId": "d395f59a-1468-4daa-e904-6b712c5b4b2d",
        "colab": {
          "base_uri": "https://localhost:8080/",
          "height": 258
        }
      },
      "source": [
        "df = pd.read_sql_query(\"SELECT P.NOME_PROGRAMA_GOVERNO, SUM(D.VALOR_DESPESA) AS VALOR_DESPESA \" + \n",
        "                       \"FROM DESPESA_PUBLICA AS D \" +\n",
        "                       \"INNER JOIN PROGRAMA_GOVERNO AS P \" +\n",
        "                       \"ON D.COD_PROGRAMA_GOVERNO = P.COD_PROGRAMA_GOVERNO \" + \n",
        "                       \"GROUP BY P.NOME_PROGRAMA_GOVERNO \" +\n",
        "                       \"HAVING SUM(VALOR_DESPESA) > 0 \" +\n",
        "                       \"ORDER BY VALOR_DESPESA DESC\", conn)\n",
        "df"
      ],
      "execution_count": 0,
      "outputs": [
        {
          "output_type": "execute_result",
          "data": {
            "text/html": [
              "<div>\n",
              "<style scoped>\n",
              "    .dataframe tbody tr th:only-of-type {\n",
              "        vertical-align: middle;\n",
              "    }\n",
              "\n",
              "    .dataframe tbody tr th {\n",
              "        vertical-align: top;\n",
              "    }\n",
              "\n",
              "    .dataframe thead th {\n",
              "        text-align: right;\n",
              "    }\n",
              "</style>\n",
              "<table border=\"1\" class=\"dataframe\">\n",
              "  <thead>\n",
              "    <tr style=\"text-align: right;\">\n",
              "      <th></th>\n",
              "      <th>NOME_PROGRAMA_GOVERNO</th>\n",
              "      <th>VALOR_DESPESA</th>\n",
              "    </tr>\n",
              "  </thead>\n",
              "  <tbody>\n",
              "    <tr>\n",
              "      <th>0</th>\n",
              "      <td>BRASIL SEM MISERIA</td>\n",
              "      <td>387175.60</td>\n",
              "    </tr>\n",
              "    <tr>\n",
              "      <th>1</th>\n",
              "      <td>ENEM</td>\n",
              "      <td>334262.06</td>\n",
              "    </tr>\n",
              "    <tr>\n",
              "      <th>2</th>\n",
              "      <td>PRONATEC</td>\n",
              "      <td>60262.46</td>\n",
              "    </tr>\n",
              "    <tr>\n",
              "      <th>3</th>\n",
              "      <td>CONTROLE DO CANCER</td>\n",
              "      <td>38971.19</td>\n",
              "    </tr>\n",
              "    <tr>\n",
              "      <th>4</th>\n",
              "      <td>MAIS MEDICOS</td>\n",
              "      <td>14400.00</td>\n",
              "    </tr>\n",
              "    <tr>\n",
              "      <th>5</th>\n",
              "      <td>REGULARIZACAO FUNDIARIA</td>\n",
              "      <td>1497.26</td>\n",
              "    </tr>\n",
              "    <tr>\n",
              "      <th>6</th>\n",
              "      <td>REDE CEGONHA</td>\n",
              "      <td>1210.00</td>\n",
              "    </tr>\n",
              "  </tbody>\n",
              "</table>\n",
              "</div>"
            ],
            "text/plain": [
              "     NOME_PROGRAMA_GOVERNO  VALOR_DESPESA\n",
              "0       BRASIL SEM MISERIA      387175.60\n",
              "1                     ENEM      334262.06\n",
              "2                 PRONATEC       60262.46\n",
              "3       CONTROLE DO CANCER       38971.19\n",
              "4             MAIS MEDICOS       14400.00\n",
              "5  REGULARIZACAO FUNDIARIA        1497.26\n",
              "6             REDE CEGONHA        1210.00"
            ]
          },
          "metadata": {
            "tags": []
          },
          "execution_count": 8
        }
      ]
    },
    {
      "cell_type": "markdown",
      "metadata": {
        "id": "H6kCYkot_Rdv",
        "colab_type": "text"
      },
      "source": [
        "**CONSULTA 3:** todos os gastos totais por mês em despesas públicas com função de 'Educação', ordenadas pelos meses do ano"
      ]
    },
    {
      "cell_type": "code",
      "metadata": {
        "id": "QD571_LY_Rdw",
        "colab_type": "code",
        "outputId": "0cdb8490-f9a9-433f-fc67-943183953238",
        "colab": {
          "base_uri": "https://localhost:8080/",
          "height": 408
        }
      },
      "source": [
        "df = pd.read_sql_query(\"SELECT D.MES_DESPESA, SUM(D.VALOR_DESPESA) AS VALOR_DESPESA \" + \n",
        "                       \"FROM DESPESA_PUBLICA AS D \" +\n",
        "                       \"INNER JOIN DETALHAMENTO_FUNCAO AS DF \" +\n",
        "                       \"ON D.COD_DETALHAMENTO = DF.COD_DETALHAMENTO \" +\n",
        "                       \"INNER JOIN FUNCAO AS F \" +\n",
        "                       \"ON DF.COD_FUNCAO = F.COD_FUNCAO \" +\n",
        "                       \"WHERE F.NOME_FUNCAO = 'Educação' \" +\n",
        "                       \"GROUP BY D.MES_DESPESA \" +\n",
        "                       \"ORDER BY D.MES_DESPESA\", conn)\n",
        "df"
      ],
      "execution_count": 0,
      "outputs": [
        {
          "output_type": "execute_result",
          "data": {
            "text/html": [
              "<div>\n",
              "<style scoped>\n",
              "    .dataframe tbody tr th:only-of-type {\n",
              "        vertical-align: middle;\n",
              "    }\n",
              "\n",
              "    .dataframe tbody tr th {\n",
              "        vertical-align: top;\n",
              "    }\n",
              "\n",
              "    .dataframe thead th {\n",
              "        text-align: right;\n",
              "    }\n",
              "</style>\n",
              "<table border=\"1\" class=\"dataframe\">\n",
              "  <thead>\n",
              "    <tr style=\"text-align: right;\">\n",
              "      <th></th>\n",
              "      <th>MES_DESPESA</th>\n",
              "      <th>VALOR_DESPESA</th>\n",
              "    </tr>\n",
              "  </thead>\n",
              "  <tbody>\n",
              "    <tr>\n",
              "      <th>0</th>\n",
              "      <td>1</td>\n",
              "      <td>7000.00</td>\n",
              "    </tr>\n",
              "    <tr>\n",
              "      <th>1</th>\n",
              "      <td>2</td>\n",
              "      <td>0.00</td>\n",
              "    </tr>\n",
              "    <tr>\n",
              "      <th>2</th>\n",
              "      <td>3</td>\n",
              "      <td>0.00</td>\n",
              "    </tr>\n",
              "    <tr>\n",
              "      <th>3</th>\n",
              "      <td>4</td>\n",
              "      <td>18178.00</td>\n",
              "    </tr>\n",
              "    <tr>\n",
              "      <th>4</th>\n",
              "      <td>5</td>\n",
              "      <td>28073.08</td>\n",
              "    </tr>\n",
              "    <tr>\n",
              "      <th>5</th>\n",
              "      <td>6</td>\n",
              "      <td>135.36</td>\n",
              "    </tr>\n",
              "    <tr>\n",
              "      <th>6</th>\n",
              "      <td>7</td>\n",
              "      <td>0.00</td>\n",
              "    </tr>\n",
              "    <tr>\n",
              "      <th>7</th>\n",
              "      <td>8</td>\n",
              "      <td>3126.00</td>\n",
              "    </tr>\n",
              "    <tr>\n",
              "      <th>8</th>\n",
              "      <td>9</td>\n",
              "      <td>334126.70</td>\n",
              "    </tr>\n",
              "    <tr>\n",
              "      <th>9</th>\n",
              "      <td>10</td>\n",
              "      <td>385.38</td>\n",
              "    </tr>\n",
              "    <tr>\n",
              "      <th>10</th>\n",
              "      <td>11</td>\n",
              "      <td>0.00</td>\n",
              "    </tr>\n",
              "    <tr>\n",
              "      <th>11</th>\n",
              "      <td>12</td>\n",
              "      <td>5900.00</td>\n",
              "    </tr>\n",
              "  </tbody>\n",
              "</table>\n",
              "</div>"
            ],
            "text/plain": [
              "    MES_DESPESA  VALOR_DESPESA\n",
              "0             1        7000.00\n",
              "1             2           0.00\n",
              "2             3           0.00\n",
              "3             4       18178.00\n",
              "4             5       28073.08\n",
              "5             6         135.36\n",
              "6             7           0.00\n",
              "7             8        3126.00\n",
              "8             9      334126.70\n",
              "9            10         385.38\n",
              "10           11           0.00\n",
              "11           12        5900.00"
            ]
          },
          "metadata": {
            "tags": []
          },
          "execution_count": 9
        }
      ]
    },
    {
      "cell_type": "markdown",
      "metadata": {
        "id": "QtP7dezF_Rdy",
        "colab_type": "text"
      },
      "source": [
        "**VISUALIZAÇÃO DA CONSULTA 3:** gráfico de barras com o valor da despesa mensal para educação"
      ]
    },
    {
      "cell_type": "code",
      "metadata": {
        "id": "iO5-qtEU_Rdy",
        "colab_type": "code",
        "outputId": "55887c31-258c-42df-82cc-a791c8777d1b",
        "colab": {
          "base_uri": "https://localhost:8080/",
          "height": 283
        }
      },
      "source": [
        "plt.bar(df['MES_DESPESA'].tolist(), df['VALOR_DESPESA'].tolist())\n",
        "\n",
        "plt.xlabel(\"Mês/2018\")\n",
        "plt.ylabel(\"Total Despesa Mensal\")\n",
        "plt.show()"
      ],
      "execution_count": 0,
      "outputs": [
        {
          "output_type": "display_data",
          "data": {
            "image/png": "[encoded data removed]",
            "text/plain": [
              "<Figure size 432x288 with 1 Axes>"
            ]
          },
          "metadata": {
            "tags": []
          }
        }
      ]
    },
    {
      "cell_type": "markdown",
      "metadata": {
        "id": "4o3VKx16_Rd0",
        "colab_type": "text"
      },
      "source": [
        "### Fechamento da conexão com o banco\n",
        "\n",
        "* Após serem realizadas todas as consultas necessárias, é aconselhavel encerrar formalmente a conexão com o banco de dados"
      ]
    },
    {
      "cell_type": "code",
      "metadata": {
        "id": "Wl0suOVr_Rd1",
        "colab_type": "code",
        "colab": {}
      },
      "source": [
        "conn.close()"
      ],
      "execution_count": 0,
      "outputs": []
    }
  ]
}